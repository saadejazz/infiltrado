{
 "cells": [
  {
   "cell_type": "code",
   "execution_count": 134,
   "metadata": {},
   "outputs": [],
   "source": [
    "from tensorflow.keras.layers import SimpleRNN, Embedding, Dense, LSTM\n",
    "from tensorflow.keras.preprocessing.sequence import pad_sequences\n",
    "from tensorflow.keras.preprocessing.text import Tokenizer\n",
    "from tensorflow.keras.optimizers import Adam, RMSprop\n",
    "from tensorflow.keras.callbacks import EarlyStopping\n",
    "from tensorflow.keras.models import Sequential\n",
    "from tensorflow.keras.models import load_model\n",
    "import keras.backend as K\n",
    "\n",
    "import pickle\n",
    "import numpy as np\n",
    "import pandas as pd\n",
    "import seaborn as sns\n",
    "import matplotlib.pyplot as plt\n",
    "from sklearn.utils import shuffle\n",
    "from sklearn.metrics import confusion_matrix"
   ]
  },
  {
   "cell_type": "markdown",
   "metadata": {},
   "source": [
    "## Loading Data  \n",
    "The dataset of spam and ham (not spam) messages can be downloaded from this [link](https://drive.google.com/file/d/11Z8bt9TwilZ1GLJFcJwWBykOicVT0ZzH/view?usp=sharing). This data is loaded using pandas, then shuffled before separating the messages and the labels. It can be seen that the data is skewed (the number of spam messages are fewer than the number of not spam messages."
   ]
  },
  {
   "cell_type": "code",
   "execution_count": 2,
   "metadata": {},
   "outputs": [
    {
     "data": {
      "text/html": [
       "<div>\n",
       "<style scoped>\n",
       "    .dataframe tbody tr th:only-of-type {\n",
       "        vertical-align: middle;\n",
       "    }\n",
       "\n",
       "    .dataframe tbody tr th {\n",
       "        vertical-align: top;\n",
       "    }\n",
       "\n",
       "    .dataframe thead th {\n",
       "        text-align: right;\n",
       "    }\n",
       "</style>\n",
       "<table border=\"1\" class=\"dataframe\">\n",
       "  <thead>\n",
       "    <tr style=\"text-align: right;\">\n",
       "      <th></th>\n",
       "      <th>v1</th>\n",
       "      <th>v2</th>\n",
       "    </tr>\n",
       "  </thead>\n",
       "  <tbody>\n",
       "    <tr>\n",
       "      <th>2632</th>\n",
       "      <td>ham</td>\n",
       "      <td>I WILL CAL YOU SIR. In meeting</td>\n",
       "    </tr>\n",
       "    <tr>\n",
       "      <th>454</th>\n",
       "      <td>spam</td>\n",
       "      <td>Loan for any purpose å£500 - å£75,000. Homeown...</td>\n",
       "    </tr>\n",
       "    <tr>\n",
       "      <th>983</th>\n",
       "      <td>ham</td>\n",
       "      <td>LOOK AT THE FUCKIN TIME. WHAT THE FUCK YOU THI...</td>\n",
       "    </tr>\n",
       "    <tr>\n",
       "      <th>1282</th>\n",
       "      <td>ham</td>\n",
       "      <td>Ever green quote ever told by Jerry in cartoon...</td>\n",
       "    </tr>\n",
       "    <tr>\n",
       "      <th>4610</th>\n",
       "      <td>ham</td>\n",
       "      <td>Wat time Ì_ finish?</td>\n",
       "    </tr>\n",
       "  </tbody>\n",
       "</table>\n",
       "</div>"
      ],
      "text/plain": [
       "        v1                                                 v2\n",
       "2632   ham                     I WILL CAL YOU SIR. In meeting\n",
       "454   spam  Loan for any purpose å£500 - å£75,000. Homeown...\n",
       "983    ham  LOOK AT THE FUCKIN TIME. WHAT THE FUCK YOU THI...\n",
       "1282   ham  Ever green quote ever told by Jerry in cartoon...\n",
       "4610   ham                                Wat time Ì_ finish?"
      ]
     },
     "metadata": {},
     "output_type": "display_data"
    },
    {
     "name": "stdout",
     "output_type": "stream",
     "text": [
      "\n",
      "\n",
      "Total number of messages:  5572\n",
      "Number of spam messages: 747\n",
      "Number of non-spam messages: 4825\n"
     ]
    }
   ],
   "source": [
    "# seed for reproducability\n",
    "np.random.seed(3)\n",
    "\n",
    "# reading data\n",
    "data = pd.read_csv(\"./spam.csv\", encoding = \"ISO-8859-1\")\n",
    "\n",
    "# only keep the required columns\n",
    "data = data[[\"v1\", \"v2\"]]\n",
    "\n",
    "# shuffle data and view the first few\n",
    "data = shuffle(data)\n",
    "display(data[:5])\n",
    "print(\"\\n\")\n",
    "\n",
    "# separate the messages from the class labels (0 for spam and 1 for ham)\n",
    "msgs = np.array(data[\"v2\"])\n",
    "labels = np.array(data[\"v1\"] == \"ham\")\n",
    "\n",
    "# determine the number of data-points, assert completeness\n",
    "num_msgs = len(msgs)\n",
    "assert(len(labels) == num_msgs)\n",
    "print(\"Total number of messages: \", num_msgs)\n",
    "\n",
    "# some data statistics\n",
    "num_ham = len([a for a in labels if a])\n",
    "num_spam = num_msgs - num_ham\n",
    "print(\"Number of spam messages:\", num_spam)\n",
    "print(\"Number of non-spam messages:\", num_ham)"
   ]
  },
  {
   "cell_type": "markdown",
   "metadata": {},
   "source": [
    "## Data Pre-processing  \n",
    "The messages are passed through a *tokenizer* which assigns a unique *id* to each word. Following this, the resulting word vecotrs are padded (by putting 0s is the start), so that they are all of the same length (decided by the *max_len* variable). A value of 100 for *max_len* is chosen assuming that it is possible to identify the intent of a message within the first 100 words. Finally, the data is first split into train and test set (the test set would be the set used for final metric evaluation). A train test split of 87.5-12.5 is suitable according to the number of records."
   ]
  },
  {
   "cell_type": "code",
   "execution_count": 3,
   "metadata": {},
   "outputs": [
    {
     "name": "stdout",
     "output_type": "stream",
     "text": [
      "Number of unique words found:  8920\n",
      "Number of messages used for training purpose:  4875\n",
      "Number of messages used for testing purpose:  697\n"
     ]
    }
   ],
   "source": [
    "# converting messages into integer word vectors\n",
    "tokenizer = Tokenizer()\n",
    "tokenizer.fit_on_texts(msgs)\n",
    "word_vectors = tokenizer.texts_to_sequences(msgs)\n",
    "\n",
    "# counting unique words\n",
    "num_unique_words = len(tokenizer.word_index)\n",
    "print(\"Number of unique words found: \", num_unique_words)\n",
    "\n",
    "# padding the word vectors so that the inputs to the RNN are of the same size\n",
    "max_len = 100\n",
    "padded_data = pad_sequences(word_vectors, maxlen = max_len)\n",
    "\n",
    "# doing the train-test split\n",
    "train_test_split = 0.875\n",
    "num_train = int(train_test_split * num_msgs)\n",
    "x_train = padded_data[: num_train]\n",
    "y_train = labels[: num_train]\n",
    "x_test = padded_data[num_train: ]\n",
    "y_test = labels[num_train: ]\n",
    "print(\"Number of messages used for training purpose: \", num_train)\n",
    "print(\"Number of messages used for testing purpose: \", num_msgs - num_train)"
   ]
  },
  {
   "cell_type": "markdown",
   "metadata": {},
   "source": [
    "## Performance Metric\n",
    "Since the data is skewed (only around 13% of the messages are spam), we choose to use F1 score as the evaluation metric rather than accuracy. This metric is defined below."
   ]
  },
  {
   "cell_type": "code",
   "execution_count": 4,
   "metadata": {
    "id": "xPqAKJAL-1sI"
   },
   "outputs": [],
   "source": [
    "# part of old keras source code\n",
    "def f1_score(y_true, y_pred):\n",
    "    true_positives = K.sum(K.round(K.clip(y_true * y_pred, 0, 1)))\n",
    "    possible_positives = K.sum(K.round(K.clip(y_true, 0, 1)))\n",
    "    predicted_positives = K.sum(K.round(K.clip(y_pred, 0, 1)))\n",
    "    precision = true_positives/(predicted_positives + K.epsilon())\n",
    "    recall = true_positives/(possible_positives + K.epsilon())\n",
    "    f1_val = 2 * (precision * recall)/(precision + recall + K.epsilon())\n",
    "    return f1_val"
   ]
  },
  {
   "cell_type": "markdown",
   "metadata": {
    "id": "Ul4vFfPZ-1sN"
   },
   "source": [
    "## Optimizing the network structure\n",
    "The data is evaluated using a validation set (so as to not overfit on the test set). Early stopping (based on the validation loss) is employed to prevent the model from overfitting. The first layer of the model is an Embedding layer which helps learn more context about each of the unique words in the word_index. The number of features of these embeddings is set to a suitable power of 2 i.e. 16  \n",
    "Furthermore, the hyperparameters are divided into two parts: ones that are kept constant and others that are tuned.  \n",
    "  \n",
    "**Constant Hyperparameters**:  \n",
    "1. batch_size  \n",
    "2. loss_function  \n",
    "3. all early stopping parameters (patience, min_delta)  \n",
    "4. validation_split\n",
    "5. epochs (a high value chosen, because early stopping is utilized \n",
    "  \n",
    "**Tuned Hyperparameters**:\n",
    "1. learning_rate  \n",
    "2. number of neurons in the LSTM layers  \n",
    "3. number of LSTM layers  \n",
    "4. number of Dense layers  \n",
    "5. activation functions for the dense layers\n",
    "6. optimizer  \n",
    "\n",
    "Insted of going through each possible value, we will do a random grid search to try to look for a model with the best F1 score.  "
   ]
  },
  {
   "cell_type": "code",
   "execution_count": 5,
   "metadata": {},
   "outputs": [],
   "source": [
    "# flag to decide whether to optimize again\n",
    "optimized = True\n",
    "\n",
    "networks = []\n",
    "path_to_models = \"models/\"\n",
    "\n",
    "if optimized:    \n",
    "    with open(path_to_models + \"models.pkl\", \"rb\") as f:\n",
    "        networks = pickle.load(f)\n",
    "else:\n",
    "    # constant hyperparameters\n",
    "    batch_size = 128\n",
    "    loss_fcn = \"binary_crossentropy\"\n",
    "    num_epochs = 50\n",
    "\n",
    "    # setting a callback\n",
    "    callback = EarlyStopping(monitor = \"val_loss\", restore_best_weights = True,\n",
    "                            patience = 5, min_delta = 0)\n",
    "\n",
    "    num_networks = 100\n",
    "    activations = [\"relu\", \"tanh\", \"elu\"]\n",
    "    opts = [Adam, RMSprop]\n",
    "\n",
    "    for j in range(num_networks):\n",
    "\n",
    "        # tunable parameters\n",
    "        learning_rate = np.power(10, np.random.uniform(-3, -1.5))\n",
    "        neurons = np.power(2, np.random.randint(3, 7))\n",
    "        num_lstm = np.random.randint(1, 4)\n",
    "        num_dense = np.random.randint(0, 3)\n",
    "        activation = np.random.choice(activations)\n",
    "        opt = np.random.choice(opts)\n",
    "        hyper_params = {\n",
    "            \"learning_rate\": learning_rate,\n",
    "            \"num_neurons\": neurons,\n",
    "            \"num_lstm_layers\": num_lstm,\n",
    "            \"num_dense_layers\": num_dense,\n",
    "            \"dense_activation_function\": activation,\n",
    "            \"optimizer\": opt\n",
    "        }\n",
    "        print(f\"Network number {j+1} training with hyperparameters:\", hyper_params)\n",
    "\n",
    "        # building a model\n",
    "\n",
    "        # initializing and adding an Embedding layer\n",
    "        model = Sequential()\n",
    "        model.add(Embedding(num_unique_words + 1, 16))\n",
    "\n",
    "        # adding the required number of LSTM layers\n",
    "        for i in range(num_lstm):\n",
    "            r_seq = True\n",
    "            if i == num_lstm - 1:\n",
    "                r_seq = False\n",
    "            model.add(LSTM(neurons, return_sequences = r_seq))\n",
    "\n",
    "        # adding the required number of dense layers\n",
    "        for i in range(num_dense):\n",
    "            model.add(Dense(2 ** (num_dense - i), activation = activation))\n",
    "\n",
    "        # adding the final sigmoid layer\n",
    "        model.add(Dense(1, activation = \"sigmoid\"))\n",
    "\n",
    "        # compile and fit model\n",
    "        model.compile(optimizer = opt(learning_rate = learning_rate), \n",
    "                     loss = loss_fcn, metrics = [f1_score])\n",
    "        history = model.fit(x_train, y_train, epochs = num_epochs, batch_size = batch_size,\n",
    "                           validation_split = 0.15, callbacks = [callback])\n",
    "\n",
    "        # determine best loss and f1_score\n",
    "        val_losses = history.history[\"val_loss\"]\n",
    "        min_loss = min(val_losses)\n",
    "        best_f1 = history.history[\"val_f1_score\"][val_losses.index(min_loss)]\n",
    "\n",
    "        # save model in a file\n",
    "        model.save(f\"{path_to_models}{j}.h5\")\n",
    "\n",
    "        # store useful data\n",
    "        networks.append({\n",
    "            \"hyperparameters\": hyper_params,\n",
    "            \"model\": j,\n",
    "            \"val_loss\": min_loss, \n",
    "            \"f1_score\": best_f1,\n",
    "        })\n",
    "\n",
    "    # save the final results in a file\n",
    "    with open(f\"{path_to_models}models.pkl\", \"wb\") as f:\n",
    "        pickle.dump(networks, f)   "
   ]
  },
  {
   "cell_type": "markdown",
   "metadata": {},
   "source": [
    "## Model Selection  \n",
    "We will select the best model based on the least validation F1 score. For F1 scores within a reasonable range, we choose the one with the lowest validation loss."
   ]
  },
  {
   "cell_type": "code",
   "execution_count": 6,
   "metadata": {},
   "outputs": [
    {
     "data": {
      "text/plain": [
       "{'hyperparameters': {'learning_rate': 0.008101284854412444,\n",
       "  'num_neurons': 32,\n",
       "  'num_lstm_layers': 1,\n",
       "  'num_dense_layers': 0,\n",
       "  'dense_activation_function': 'tanh',\n",
       "  'optimizer': keras.optimizer_v2.rmsprop.RMSprop},\n",
       " 'model': 77,\n",
       " 'val_loss': 0.02567603625357151,\n",
       " 'f1_score': 0.9971261620521545}"
      ]
     },
     "execution_count": 6,
     "metadata": {},
     "output_type": "execute_result"
    }
   ],
   "source": [
    "# select all models with the F1 score with 0.001 range\n",
    "best_score = sorted(networks, key = lambda x: -x[\"f1_score\"])[0][\"f1_score\"]\n",
    "candidate_models = [a for a in networks if a[\"f1_score\"] >= best_score - 0.001]\n",
    "\n",
    "# choose the best model based on the lowest validation loss\n",
    "best_model = sorted(candidate_models, key = lambda x: x[\"val_loss\"])[0]\n",
    "\n",
    "# load the model into the 'model' variable\n",
    "model = load_model(f\"{path_to_models}{best_model['model']}.h5\",\n",
    "                  custom_objects = {\n",
    "                      \"f1_score\": f1_score\n",
    "                  })\n",
    "best_model"
   ]
  },
  {
   "cell_type": "code",
   "execution_count": 143,
   "metadata": {},
   "outputs": [],
   "source": [
    "def plot_confusion(y_true, y_pred):\n",
    "    conf = confusion_matrix(y_true, y_pred)\n",
    "    ax= plt.subplot()\n",
    "    sns.heatmap(conf, annot=True, fmt='g', ax=ax)\n",
    "    ax.set_xlabel('Predicted labels')\n",
    "    ax.set_ylabel('True labels')\n",
    "    ax.set_title('Confusion Matrix')\n",
    "    ax.xaxis.set_ticklabels(['spam', 'non-spam'])\n",
    "    ax.yaxis.set_ticklabels(['spam', 'non-spam'])"
   ]
  },
  {
   "cell_type": "markdown",
   "metadata": {},
   "source": [
    "## Evaluation  \n",
    "We finally evaluate our chosen model on the test set."
   ]
  },
  {
   "cell_type": "code",
   "execution_count": 151,
   "metadata": {},
   "outputs": [
    {
     "name": "stdout",
     "output_type": "stream",
     "text": [
      "22/22 [==============================] - 0s 10ms/step - loss: 0.0466 - f1_score: 0.9934\n",
      "Accuracy of the model on the test set:  0.9885222381635581\n"
     ]
    },
    {
     "data": {
      "image/png": "[encoded data removed]",
      "text/plain": [
       "<Figure size 432x288 with 2 Axes>"
      ]
     },
     "metadata": {
      "needs_background": "light"
     },
     "output_type": "display_data"
    }
   ],
   "source": [
    "# evaluation metric calculation\n",
    "predictions = np.round(model.predict(x_test)) == 1.\n",
    "final_f1 = model.evaluate(x_test, y_test)\n",
    "\n",
    "# confusion matrix\n",
    "plot_confusion(y_test, predictions)\n",
    "\n",
    "# accuracy\n",
    "check = y_test.reshape(y_test.shape[0], 1) == predictions.reshape(predictions.shape[0], 1)\n",
    "print(\"Accuracy of the model on the test set: \", len([a for a in check if a])/len(predictions))"
   ]
  },
  {
   "cell_type": "markdown",
   "metadata": {},
   "source": [
    "## Testing on personal messages\n",
    "A short collection of spams and non-spam text messages and emails are collected from our accounts/mobiles. The selected model is run on this small dataset, and the results displayed"
   ]
  },
  {
   "cell_type": "code",
   "execution_count": 153,
   "metadata": {},
   "outputs": [
    {
     "name": "stdout",
     "output_type": "stream",
     "text": [
      "1/1 [==============================] - 0s 27ms/step - loss: 0.3096 - f1_score: 0.9375\n",
      "Accuracy of the model on the personal messages dataset:  0.9333333333333333\n"
     ]
    },
    {
     "data": {
      "image/png": "[encoded data removed]",
      "text/plain": [
       "<Figure size 432x288 with 2 Axes>"
      ]
     },
     "metadata": {
      "needs_background": "light"
     },
     "output_type": "display_data"
    }
   ],
   "source": [
    "# the dataset of personal messages\n",
    "spams = [\n",
    "    \"Congratulations! YOu have won a $1000 gift card. Go to https://www.bitly.com/123456 for more info.\",\n",
    "    \"THIS CHRISTMAS YOU DO NOT RUN OUT OF DATA: Mobile 10GB + unlimited calls for only 9.90E / month. FINAL PRICE FOREVER. + info: 900696335. No + Publi bit.ly/2azyb \",\n",
    "    \"UNIQUE OFFER: For only 9.90E / month take 10GB on your mobile with unlimited calls. PRICE FOREVER, WITHOUT PERMANENCE. + Info 900696335. No + Publi bit.ly/2azyb \",\n",
    "    \"LAST DAYS! For being WOW, -35% in WOMEN'SECRET, cumulative until 12/31/21, with SMS in stores and womensecret.com. COD 544 + Inf / Stop SMS https://bit.ly/3HZUHeh \",\n",
    "    \"INCREDIBLE. A XIAOMI REDMI 9A 32 GB FREE, going to the Fiber 300Mb + UNLIMITED GB in the mobile. Get one. Call FREE to 900 696 985. No + Publi bit.ly/2JgaU\",\n",
    "    \"SALES in Esdemarca! Up to 60% discount. in your favorite brands Enter! www.esdemarca.com/sms/c/22040f/7c47126c \",\n",
    "    \"On your birthday, get 25% on Continente Card on the birthday cake and sparkling wine (max 6 bottles) at Continente or Cartão.continente.pt/bolos. On your first purchase >€30 on Continente until 03/10, receive 1 15ct/l coupon on Continente Card to refuel at Galp. X3989X. cartao.continente.pt/galp \",\n",
    "    \"Irresistible sales from Jazztel! Fiber and Mobile 25GB for only 20e / month 3 months and a Samsung Galaxy A70 at 40% discount. Call now FREE at 900834316. No + publi900809400 \",\n",
    "    \"VF Publi: Celebrate that HBO Max is on Vodafone TV! As a customer, come to your nearest Vodafone Store and find out instantly if you win one of the exclusive HBO Max gifts. Also, will you enter the draw for a TV LG 55 ?. Find your store: go.vodafone.es/tiendavf \",\n",
    "    \"Vodafone: Win 1 of the 5 ALL-inclusive trips with MiércoYES! Culture + Gastro + Musical Billy Elliot for 2 people. Participate today m.vodafone.es/miercoyess \",\n",
    "    \"VF Publi: Just for you! Samsung Galaxy A52s 5G 128GB for only € 7.33 / month with any rate and in 36 installments. Are you going to miss it? (500 units available). Call 1444 or click here: m.vodafone.es/canjeterminal \",\n",
    "    \"New Samsung Galaxy Z Fold3 and Flip3 now available at Worten! Pay in 24 installments without interest and enjoy up to €800 in trade-ins, until 9/30 +Info/legal: www.wrt.pub/3ky9Pof \",\n",
    "    \"Airbnb - Don't miss out on these deals in Krakow. Get an incredible deal on these accommodations. Book now to enjoy the additional discounts offered by your host\",\n",
    "    \"TheFork - Do you want to win 1 € 100 TheFork Gift Card? Raffle of 3 gift cards. Participates! \",\n",
    "    \"Nestle - LAST chance to WIN our Christmas Basket. Participate now and get 1 of the 10 Christmas baskets that we raffle. You are still in time to participate! \"\n",
    "]\n",
    "\n",
    "not_spams = [\n",
    "    \"Alert RCB: Warning! Strong winds during the day, overnight and tomorrow morning (21/22.10). Possible traffic disruptions and power outages.\",\n",
    "    \"Your invoice for the current month has been generated. Payable amount is PKR 2,547.We would appreciate if you kindly process the payment within due date i.e. 12-Jan-2022 to avoid late payment surcharge.\",\n",
    "    \"Wishing you and yours every happiness this holiday season and throughout the coming year.\",\n",
    "    \"Congratulations on successfully completing your degree from School of Mechanical and Manufacturing Engineering, SMME NUST. It is indeed a proud and momentous achievement for all of you graduates and the one that should be recognised through a formal ceremony of Convocation.\",\n",
    "    \"@hamishaider has invited you to collaborate on the hamishaider/mi_detection repository You can accept or decline this invitation. You can also visit @hamishaider to learn a bit more about them.This invitation will expire in 7 days.\",\n",
    "    \"I know that on Thursday there is a JEMARO meeting. As I got information from prof. Zielińska, you can be excused of Polish class if you want to take part at that meeting. So it's your decision where you would like to be, just inform me about it.\",\n",
    "    \"This is to inform you that we have received a payment of PKR 2,547.00 on 02-Dec-2021 at 06:26:44 (Excluding Bank Charges).Remaining balance is PKR 0.00. (-) Negative amount reflects outstanding payment.(+) Positive amount reflects excess payment in your account. Thanks for your payment. We look forward to keep serving you.\",\n",
    "    \"Your visa application has been sent to the Decision Making Centre for processing. You can track the progress of your visa application by connecting to your account.\",\n",
    "    \"I contacted my supervisor and I have the permission to make tomorrow's class on-line for all.\",\n",
    "    \"The other teachers have also shifted to Teams for the week. We are fine with Teams.\",\n",
    "    \"Please be aware of all required travel documentation. Failure to present mandatory documentation may result in your boarding/entry to your destination being denied and, in some cases, may result in expensive fines\",\n",
    "    \"Click on the button below to proceed to filling out the KLP form. Use the form to report your arrival to Poland.\",\n",
    "    \"Thanks for providing the info we requested. If you uploaded more than one document, keep an eye on your inbox. We’ll let you know when they’ve also been confirmed.\",\n",
    "    \"Internees will work on 3D designing,3D modeling, industrial design project, Solid-works, auto desk inventor, industrial design, machine design, CAD Drawing,3D Printing, Laser cutting, CNC milling, lathe, wire EDM & much more.\",\n",
    "    \"Pity you didn't call me. I put the link to Teams to all groups and I already finished. I had a class before so I couldn't read your message before. I can just send you the presentation.\"\n",
    "]\n",
    "\n",
    "# preparing the messages for the network\n",
    "p_msgs = spams + not_spams\n",
    "p_labels = [False] * len(spams) + [True] * len(not_spams)\n",
    "p_labels = np.array(p_labels)\n",
    "p_seq = tokenizer.texts_to_sequences(p_msgs)\n",
    "p_seq = pad_sequences(p_seq, maxlen = max_len)\n",
    "\n",
    "# predictions\n",
    "p_pred = model.predict(p_seq)\n",
    "p_pred = np.round(p_pred) == 1.\n",
    "model.evaluate(p_seq, p_labels)\n",
    "\n",
    "# plot confusion matrix\n",
    "plot_confusion(p_labels, p_pred)\n",
    "\n",
    "# accuracy\n",
    "check = p_labels.reshape(p_labels.shape[0], 1) == p_pred.reshape(p_pred.shape[0], 1)\n",
    "print(\"Accuracy of the model on the personal messages dataset: \", len([a for a in check if a])/len(p_pred))"
   ]
  },
  {
   "cell_type": "code",
   "execution_count": null,
   "metadata": {},
   "outputs": [],
   "source": []
  }
 ],
 "metadata": {
  "colab": {
   "collapsed_sections": [],
   "name": "infiltrado.ipynb",
   "provenance": []
  },
  "kernelspec": {
   "display_name": "Python 3 (ipykernel)",
   "language": "python",
   "name": "python3"
  },
  "language_info": {
   "codemirror_mode": {
    "name": "ipython",
    "version": 3
   },
   "file_extension": ".py",
   "mimetype": "text/x-python",
   "name": "python",
   "nbconvert_exporter": "python",
   "pygments_lexer": "ipython3",
   "version": "3.7.11"
  }
 },
 "nbformat": 4,
 "nbformat_minor": 1
}
